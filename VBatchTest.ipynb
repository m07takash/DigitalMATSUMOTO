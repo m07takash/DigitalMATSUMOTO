{
 "cells": [
  {
   "cell_type": "code",
   "execution_count": 5,
   "id": "1c65a1cf-a654-46a2-8cb5-c93a5dacbfd4",
   "metadata": {},
   "outputs": [],
   "source": [
    "import os\n",
    "import time\n",
    "import pandas as pd\n",
    "import DigiM_Execute as dme\n",
    "import DigiM_Session as dms\n",
    "import DigiM_Agent as dma\n",
    "import DigiM_Util as dmu"
   ]
  },
  {
   "cell_type": "code",
   "execution_count": 8,
   "id": "17235dad-701e-4446-9cac-4be1dd27c18e",
   "metadata": {},
   "outputs": [],
   "source": [
    "#ベンチマークテストの設定\n",
    "test_name = \"MBTIテスト202412\"\n",
    "test_folder_path = \"test/\"\n",
    "test_file = \"MBTI.xlsx\"\n",
    "test_sheet_name = \"MBTI\"\n",
    "raw_name_Q = \"設問\" \n",
    "raw_name_A = \"デジタルMATSUMOTO\"\n",
    "\n",
    "#入力\n",
    "query = \"\"\"\n",
    "以下の質問に「賛成する(+3)～反対する(-3)」の間で回答してください。※回答は数値(+3～-3)のみを答えてください。\\n\n",
    "\"\"\"\n",
    "uploaded_contents = []\n",
    "situation = {}\n",
    "\n",
    "#実行設定\n",
    "agent_file = \"agent_01DigitalMATSUMOTO_GPT.json\"\n",
    "overwrite_items = {}\n",
    "memory_use = False\n",
    "magic_word_use = False"
   ]
  },
  {
   "cell_type": "code",
   "execution_count": 9,
   "id": "0d10e670-6383-4d3b-9ff0-a3cfe67ffc06",
   "metadata": {},
   "outputs": [
    {
     "name": "stderr",
     "output_type": "stream",
     "text": [
      "/tmp/ipykernel_19691/3971937368.py:17: FutureWarning: Setting an item of incompatible dtype is deprecated and will raise an error in a future version of pandas. Value '-2' has dtype incompatible with float64, please explicitly cast to a compatible dtype first.\n",
      "  mbti_sheet.at[index, raw_name_A] = results[-1][\"OUTPUT\"]\n"
     ]
    },
    {
     "name": "stdout",
     "output_type": "stream",
     "text": [
      "テストが完了しました:test/output_MBTI.xlsx\n"
     ]
    }
   ],
   "source": [
    "# セッションの設定（新規でセッションIDを発番）\n",
    "session_id = dms.set_new_session_id()\n",
    "session_name = test_name\n",
    "session = dms.DigiMSession(session_id, session_name)\n",
    "\n",
    "# エージェントの宣言\n",
    "agent = dma.DigiM_Agent(agent_file)\n",
    "practice = agent.habit\n",
    "\n",
    "# テストファイルを読み込んでループ\n",
    "test_file_path = test_folder_path + test_file\n",
    "mbti_sheet = pd.read_excel(test_file_path, sheet_name=test_sheet_name)\n",
    "Q_no = 0\n",
    "for index, row in mbti_sheet.iterrows():\n",
    "    questionaire = str(row[raw_name_Q])\n",
    "    user_input = query +\"\\n\"+ questionaire\n",
    "    results = dme.DigiMatsuExecute_Practice(session_id, session_name, agent_file, user_input, uploaded_contents, situation, overwrite_items, practice, memory_use, magic_word_use)\n",
    "    output = results[-1][\"OUTPUT\"]\n",
    "    mbti_sheet.at[index, raw_name_A] = output\n",
    "    Q_no += 1\n",
    "    print(f\"Q{Q_no}に回答:{output[:30]}\")\n",
    "    time.sleep(3)\n",
    "\n",
    "# テスト結果の出力\n",
    "output_file = \"output_\"+ test_file\n",
    "output_file_path = test_folder_path + output_file\n",
    "mbti_sheet.to_excel(output_file_path, sheet_name=test_sheet_name, index=False)\n",
    "\n",
    "print(f\"テストが完了しました:{output_file_path}\")"
   ]
  },
  {
   "cell_type": "code",
   "execution_count": null,
   "id": "8e4eb287-4d48-4be7-bfcf-30d71389ee38",
   "metadata": {},
   "outputs": [],
   "source": []
  }
 ],
 "metadata": {
  "kernelspec": {
   "display_name": "Python 3 (ipykernel)",
   "language": "python",
   "name": "python3"
  },
  "language_info": {
   "codemirror_mode": {
    "name": "ipython",
    "version": 3
   },
   "file_extension": ".py",
   "mimetype": "text/x-python",
   "name": "python",
   "nbconvert_exporter": "python",
   "pygments_lexer": "ipython3",
   "version": "3.10.12"
  }
 },
 "nbformat": 4,
 "nbformat_minor": 5
}
