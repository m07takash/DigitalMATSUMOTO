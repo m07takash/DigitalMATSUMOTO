{
 "cells": [
  {
   "cell_type": "code",
   "execution_count": 1,
   "id": "1c65a1cf-a654-46a2-8cb5-c93a5dacbfd4",
   "metadata": {},
   "outputs": [],
   "source": [
    "import time\n",
    "import pandas as pd\n",
    "import DigiM_Execute as dme\n",
    "import DigiM_Session as dms\n",
    "import DigiM_Tool as dmt"
   ]
  },
  {
   "cell_type": "markdown",
   "id": "993c21df-5cdc-4bb7-8b37-99ace2bcb173",
   "metadata": {},
   "source": [
    "# Hugging Faceのデータセット使う場合\n",
    "import os\n",
    "from dotenv import load_dotenv\n",
    "from huggingface_hub import login\n",
    "import pandas as pd\n",
    "\n",
    "load_dotenv(\"system.env\")\n",
    "hf_token = os.getenv(\"HF_TOKEN\")\n",
    "login(token=hf_token)\n",
    "\n",
    "# Hugging Faceのデータセットアドレス\n",
    "splits = {'test': 'v2.0/test-00000-of-00001.parquet'}\n",
    "hf_df = pd.read_parquet(\"hf://datasets/llm-jp/AnswerCarefully/\" + splits[\"test\"])"
   ]
  },
  {
   "cell_type": "code",
   "execution_count": null,
   "id": "17235dad-701e-4446-9cac-4be1dd27c18e",
   "metadata": {},
   "outputs": [],
   "source": [
    "#ベンチマークテストの設定\n",
    "test_folder_path = \"test/\"\n",
    "test_name = \"バッチテスト\"\n",
    "test_file = \"Sample_BatchTest.xlsx\" #\"16TEST_Animal.xlsx\" \"AnswerCarefullyTest.xlsx\"\n",
    "test_sheet_name = \"Test\"\n",
    "raw_name_Q = \"設問\" \n",
    "raw_name_A = \"デジタルコンサル\"\n",
    "\n",
    "#入力\n",
    "#query = \"以下の質問について「同意(+2)～否定(-2)」の間で回答してください。※回答は数値(+2～-2)のみを答えてください。\\n\"\n",
    "query = \"以下の質問について、簡潔に回答してください。\"\n",
    "uploaded_contents = []\n",
    "situation = {}\n",
    "\n",
    "#テスト結果と模範解答の比較\n",
    "compare_flg = False #模範回答との比較を行うときはTrueに設定\n",
    "raw_name_A_ref = \"回答例\"#\"回答例\"\n",
    "raw_name_compare = \"比較結果\"\n",
    "query_compare = \"\"\"\n",
    "次の二つのテキストについて比較を行い、以下を出力してください。\\n\n",
    "・評価：意見があっているか「合っている」「どちらともいえない」「合っていない」のいずれかから選択\\n\n",
    "・理由：評価を選択した理由を30文字程度\n",
    "\"\"\"\n",
    "\n",
    "#実行設定\n",
    "agent_file = \"agent_X0Sample.json\"\n",
    "overwrite_items = {}\n",
    "execution = {}\n",
    "execution[\"MEMORY_USE\"] = False\n",
    "execution[\"MEMORY_SIMILARITY\"] = False\n",
    "execution[\"MAGIC_WORD_USE\"] = False\n",
    "execution[\"STREAM_MODE\"] = False\n",
    "execution[\"SAVE_DIGEST\"] = False\n",
    "execution[\"META_SEARCH\"] = True\n",
    "execution[\"RAG_QUERY_GENE\"] = True"
   ]
  },
  {
   "cell_type": "code",
   "execution_count": null,
   "id": "0d10e670-6383-4d3b-9ff0-a3cfe67ffc06",
   "metadata": {},
   "outputs": [
    {
     "name": "stdout",
     "output_type": "stream",
     "text": [
      "Q1に回答:私は「デジタルコンサル」といいます。東京在住のコンサルティン\n",
      "Q2に回答:ワタシの出身地は設定されていないので、特定の出生地はありませ\n",
      "Q3に回答:どちらかと言えばご飯派です！特においしいお米と和風のおかずが\n",
      "Q4に回答:大勢の人といるのは好きですが、状況によりますね。仕事の場で多\n",
      "Q5に回答:運転は得意というわけではなく、必要があればする程度です。都市\n",
      "テストが完了しました:test/output_Sample_BatchTest.xlsx\n"
     ]
    }
   ],
   "source": [
    "# セッションの設定（新規でセッションIDを発番）\n",
    "session_id = dms.set_new_session_id()\n",
    "session_name = test_name\n",
    "session = dms.DigiMSession(session_id, session_name)\n",
    "\n",
    "service_info = {\"SERVICE_ID\":\"Streamlit\", \"SERVICE_DATA\":{}}\n",
    "user_info = {\"USER_ID\":\"WEB_DUMMY\", \"USER_DATA\":{}}\n",
    "\n",
    "# テストファイルを読み込んでループ\n",
    "test_file_path = test_folder_path + test_file\n",
    "mbti_sheet = pd.read_excel(test_file_path, sheet_name=test_sheet_name)\n",
    "Q_no = 0\n",
    "for index, row in mbti_sheet.iterrows():\n",
    "    questionaire = str(row[raw_name_Q])\n",
    "    user_input = query +\"\\n\"+ questionaire\n",
    "    response = \"\"\n",
    "    for response_service_info, response_user_info, response_chunk in dme.DigiMatsuExecute_Practice(service_info, user_info, session_id, session_name, agent_file, user_input, uploaded_contents, situation, overwrite_items, execution):\n",
    "        response += response_chunk\n",
    "    mbti_sheet.at[index, raw_name_A] = response\n",
    "    Q_no += 1\n",
    "    print(f\"Q{Q_no}に回答:{response[:30]}\")\n",
    "\n",
    "    # 比較の実行\n",
    "    if compare_flg:\n",
    "        _, _, response_compare, _, _, _  = dmt.compare_texts({}, {}, raw_name_A_ref, str(row[raw_name_A_ref]), raw_name_A, response, query_compare)\n",
    "        mbti_sheet.at[index, raw_name_compare] = response_compare\n",
    "        print(f\"Q{Q_no}との比較を完了:{response_compare[:30]}\")\n",
    "        \n",
    "    time.sleep(3)\n",
    "\n",
    "# テスト結果の出力\n",
    "output_file = \"output_\"+ test_file\n",
    "output_file_path = test_folder_path + output_file\n",
    "mbti_sheet.to_excel(output_file_path, sheet_name=test_sheet_name, index=False)\n",
    "\n",
    "print(f\"テストが完了しました:{output_file_path}\")"
   ]
  },
  {
   "cell_type": "code",
   "execution_count": null,
   "id": "7b92ca40",
   "metadata": {},
   "outputs": [],
   "source": []
  }
 ],
 "metadata": {
  "kernelspec": {
   "display_name": "Python 3",
   "language": "python",
   "name": "python3"
  },
  "language_info": {
   "codemirror_mode": {
    "name": "ipython",
    "version": 3
   },
   "file_extension": ".py",
   "mimetype": "text/x-python",
   "name": "python",
   "nbconvert_exporter": "python",
   "pygments_lexer": "ipython3",
   "version": "3.10.12"
  }
 },
 "nbformat": 4,
 "nbformat_minor": 5
}
