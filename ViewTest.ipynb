{
 "cells": [
  {
   "cell_type": "code",
   "execution_count": 34,
   "id": "70a67f5e-d705-426f-824d-6ea43fa713a3",
   "metadata": {},
   "outputs": [],
   "source": [
    "import pandas as pd\n",
    "import numpy as np\n",
    "from datetime import datetime\n",
    "\n",
    "import DigiM_Context as dmc\n",
    "import DigiM_Tool as dmt\n",
    "import DigiM_Util as dmu\n",
    "import DigiM_Notion as dmn"
   ]
  },
  {
   "cell_type": "code",
   "execution_count": 35,
   "id": "befe10a2-4ad7-4383-a134-7c39b3a4fbe6",
   "metadata": {},
   "outputs": [],
   "source": [
    "#形態素解析用の定義\n",
    "GRAMMER = ('名詞')#,'動詞','形容詞','副詞')\n",
    "STOP_WORDS = [\"と\", \"の\", \"が\", \"で\", \"て\", \"に\", \"お\", \"は\", \"。\", \"、\", \"・\", \"<\", \">\", \"【\", \"】\", \"(\", \")\", \"（\", \"）\", \"Source\", \"Doc\", \"id\", \":\", \"的\", \"等\", \"こと\", \"し\", \"する\", \"ます\", \"です\", \"します\", \"これ\", \"あれ\", \"それ\", \"どれ\", \"この\", \"あの\", \"その\", \"どの\", \"氏\", \"さん\", \"くん\", \"君\", \"化\", \"ため\", \"おり\", \"もの\", \"により\", \"あり\", \"これら\", \"あれら\", \"それら\"]"
   ]
  },
  {
   "cell_type": "code",
   "execution_count": 36,
   "id": "8b5087a5-d85c-4859-bdd7-20f82b9e0981",
   "metadata": {},
   "outputs": [],
   "source": [
    "# 接続情報\n",
    "db_name = \"DigiMATSU_Opinion\"\n",
    "item_dict = {\n",
    "    \"title\": {\"名前\": \"title\"}, \n",
    "    \"note_date\": {\"note公開日\": \"date\"},\n",
    "    \"category\": {\"カテゴリ\": \"select\"},\n",
    "    \"eval\": {\"評価\": \"select\"},\n",
    "    \"Input\": {\"インプット\": \"rich_text\"},\n",
    "    \"Insight_Draft\": {\"考察_DTwin\": \"rich_text\"},\n",
    "    \"Insight_Final\": {\"考察_確定版\": \"rich_text\"},\n",
    "    \"Model\": {\"実行モデル\": \"rich_text\"},\n",
    "    \"reference\": {\"リファレンス\": \"rich_text\"}\n",
    "}\n",
    "chk_dict_done = {'確定Chk': True}\n",
    "chk_dict_analyse = {'確定Chk': True, '分析Chk': False} #一時的に分析Chkを対象\n",
    "date_dict = {}"
   ]
  },
  {
   "cell_type": "code",
   "execution_count": 37,
   "id": "cf63bd98-5fa2-4b98-84d7-3c46acfb01b6",
   "metadata": {},
   "outputs": [],
   "source": [
    "# 更新対象データの取得（コンテキストのPGを利用）\n",
    "page_data_analyse = dmc.get_chunk_notion(db_name, item_dict, chk_dict_analyse, date_dict)\n",
    "page_data_analyse = sorted(page_data_analyse, key=lambda x: x['note_date'], reverse=True)\n",
    "page_data_done = dmc.get_chunk_notion(db_name, item_dict, chk_dict_done, date_dict)\n",
    "page_data_done = sorted(page_data_done, key=lambda x: x['note_date'], reverse=True)"
   ]
  },
  {
   "cell_type": "code",
   "execution_count": 38,
   "id": "0bef8e76-247b-40da-bcc0-5c393f364ee4",
   "metadata": {},
   "outputs": [],
   "source": [
    "# 考察記事の特徴（TF-IDF）\n",
    "def analytics_insight_tfidf(page_data, page_data_done, TopN=10):\n",
    "    page_title = page_data[\"title\"]\n",
    "\n",
    "    # TF-IDF設定対象の取得\n",
    "    page_date = datetime.strptime(page_data['note_date'], '%Y-%m-%d')\n",
    "    insights = [page[\"Insight_Final\"] for page in page_data_done if datetime.strptime(page['note_date'], '%Y-%m-%d') <= page_date]\n",
    "    \n",
    "    # TF-IDFベクトライザーを生成\n",
    "    vectorizer_tfidf = dmu.fit_tfidf(insights, mode=\"Default\", stop_words=STOP_WORDS, grammer=GRAMMER)\n",
    "    dict_tfidf, tfidf_topN, tfidf_topN_str = dmu.get_tfidf_list(page_data[\"Insight_Final\"], vectorizer_tfidf, TopN)\n",
    "    dict_tfidf_v = {key: value for key, value in dict_tfidf.items() if value != 0}\n",
    "\n",
    "    # TF-IDFをNotionに保存\n",
    "    result = dmn.update_notion_rich_text_content(page_data[\"id\"], \"TF-IDFトップ10\", tfidf_topN_str)\n",
    "    \n",
    "    # ワードクラウドを生成して保存\n",
    "    dmu.get_wordcloud(page_title, dict_tfidf_v)\n",
    "    print(f\"ワードクラウドを作成：ファイルを個別にNotionへ保存してください。{page_title}\")\n",
    "    \n",
    "    return dict_tfidf_v, tfidf_topN, tfidf_topN_str"
   ]
  },
  {
   "cell_type": "code",
   "execution_count": 39,
   "id": "99ec3c8c-2898-4114-a945-d1768a24224e",
   "metadata": {},
   "outputs": [],
   "source": [
    "# 独自性：通常LLMとの差分\n",
    "def analytics_insight_originality(page_data, vec_insight_final, vec_insight_draft, tfidf_topN=[]):\n",
    "    # 通常LLMを実行してNotionに保存\n",
    "    agent_file = \"agent_01DigitalMATSUMOTO.json\"\n",
    "    insight_pure, prompt_tokens, response_tokens = dmt.generate_pureLLM(agent_file, page_data[\"Input\"])\n",
    "    vec_insight_pure = dmu.embed_text(insight_pure)\n",
    "    dmn.update_notion_rich_text_content(page_data[\"id\"], \"考察_比較LLM\", insight_pure)\n",
    "\n",
    "    # 独自性(距離)を算出\n",
    "    originality_final = dmu.calculate_cosine_distance(vec_insight_final, vec_insight_pure)\n",
    "    originality_draft = dmu.calculate_cosine_distance(vec_insight_draft, vec_insight_pure)\n",
    "    originality_improved = originality_final - originality_draft\n",
    "    result = dmn.update_notion_num(page_data[\"id\"], \"独自性(距離)Final\", originality_final)\n",
    "    result = dmn.update_notion_num(page_data[\"id\"], \"独自性(距離)Draft\", originality_draft)\n",
    "    result = dmn.update_notion_num(page_data[\"id\"], \"独自性(距離)Improved\", originality_improved)\n",
    "\n",
    "    # LLMでの比較分析\n",
    "    compare_final_pure, prompt_tokens, response_tokens = dmt.compare_texts(\"デジタルMATSUMOTOの考察(最終版)\", page_data[\"Insight_Final\"], \"通常LLMの考察\", insight_pure)\n",
    "    compare_draft_pure, prompt_tokens, response_tokens = dmt.compare_texts(\"デジタルMATSUMOTOの考察(ドラフト版)\", page_data[\"Insight_Draft\"], \"通常LLMの考察\", insight_pure)\n",
    "    compare_final_draft, prompt_tokens, response_tokens = dmt.compare_texts(\"デジタルMATSUMOTOの考察(最終版)\", page_data[\"Insight_Final\"], \"デジタルMATSUMOTOの考察(ドラフト版)\", page_data[\"Insight_Draft\"])\n",
    "    dmn.update_notion_rich_text_content(page_data[\"id\"], \"独自性Final_LLM評価\", compare_final_pure.replace(\"*\",\"\"))\n",
    "    dmn.update_notion_rich_text_content(page_data[\"id\"], \"独自性Draft_LLM評価\", compare_draft_pure.replace(\"*\",\"\"))\n",
    "    dmn.update_notion_rich_text_content(page_data[\"id\"], \"独自性Improved_LLM評価\", compare_final_draft.replace(\"*\",\"\"))\n",
    "\n",
    "    # 独自のキーワード\n",
    "    if tfidf_topN:\n",
    "        original_keywords = [(keyword, value) for keyword, value in tfidf_topN if keyword not in insight_pure]\n",
    "        dmn.update_notion_rich_text_content(page_data[\"id\"], \"独自性Final_キーワード\", str(original_keywords))"
   ]
  },
  {
   "cell_type": "code",
   "execution_count": 40,
   "id": "8df2b7df-458d-495d-b29d-ea31222f5de6",
   "metadata": {},
   "outputs": [],
   "source": [
    "# 知識参照度と知識活用度の分析\n",
    "def analytics_insight_knowledge(page_data, topN=10):\n",
    "    df = pd.DataFrame(eval(page_data[\"reference\"]))\n",
    "\n",
    "    # similarity_Qの統計量を算出\n",
    "    similarity_Q_stats = {\n",
    "        \"max\": df[\"similarity_Q\"].max(),\n",
    "        \"min\": df[\"similarity_Q\"].min(),\n",
    "        \"mean\": df[\"similarity_Q\"].mean(),\n",
    "        \"median\": df[\"similarity_Q\"].median(),\n",
    "        \"variance\": df[\"similarity_Q\"].var()\n",
    "    }\n",
    "    \n",
    "    # similarity_Qのランキングを取得\n",
    "    similarity_Q_rank = df.nlargest(topN, \"similarity_Q\")[[\"ID\", \"similarity_Q\", \"similarity_A\", \"title\", \"text_short\", \"url\"]].values.tolist()\n",
    "\n",
    "    # similarity_Aの統計量を算出\n",
    "    similarity_A_stats = {\n",
    "        \"max\": df[\"similarity_A\"].max(),\n",
    "        \"min\": df[\"similarity_A\"].min(),\n",
    "        \"mean\": df[\"similarity_A\"].mean(),\n",
    "        \"median\": df[\"similarity_A\"].median(),\n",
    "        \"variance\": df[\"similarity_A\"].var()\n",
    "    }\n",
    "    \n",
    "    # similarity_Aのランキングを取得\n",
    "    similarity_A_rank = df.nlargest(topN, \"similarity_A\")[[\"ID\", \"similarity_Q\", \"similarity_A\", \"title\", \"text_short\", \"url\"]].values.tolist()\n",
    "\n",
    "    # Notionへの書き込み\n",
    "    dmn.update_notion_num(page_data[\"id\"], \"知識参照度Q_最大値\", round(similarity_Q_stats[\"max\"],3))\n",
    "    dmn.update_notion_num(page_data[\"id\"], \"知識参照度Q_最小値\", round(similarity_Q_stats[\"min\"],3))\n",
    "    dmn.update_notion_num(page_data[\"id\"], \"知識参照度Q_平均値\", round(similarity_Q_stats[\"mean\"],3))\n",
    "    dmn.update_notion_num(page_data[\"id\"], \"知識参照度Q_中央値\", round(similarity_Q_stats[\"median\"],3))\n",
    "    dmn.update_notion_num(page_data[\"id\"], \"知識参照度Q_分散\", round(similarity_Q_stats[\"variance\"],3))\n",
    "    dmn.update_notion_rich_text_content(page_data[\"id\"], \"知識参照度Q_ランキング\", str(similarity_Q_rank))\n",
    "\n",
    "    dmn.update_notion_num(page_data[\"id\"], \"知識活用度A_最大値\", round(similarity_A_stats[\"max\"],3))\n",
    "    dmn.update_notion_num(page_data[\"id\"], \"知識活用度A_最小値\", round(similarity_A_stats[\"min\"],3))\n",
    "    dmn.update_notion_num(page_data[\"id\"], \"知識活用度A_平均値\", round(similarity_A_stats[\"mean\"],3))\n",
    "    dmn.update_notion_num(page_data[\"id\"], \"知識活用度A_中央値\", round(similarity_A_stats[\"median\"],3))\n",
    "    dmn.update_notion_num(page_data[\"id\"], \"知識活用度A_分散\", round(similarity_A_stats[\"variance\"],3))\n",
    "    dmn.update_notion_rich_text_content(page_data[\"id\"], \"知識活用度A_ランキング\", str(similarity_A_rank))    "
   ]
  },
  {
   "cell_type": "code",
   "execution_count": 41,
   "id": "6ecfa519-ca66-4c02-9a19-6b68e66c62c8",
   "metadata": {},
   "outputs": [
    {
     "name": "stdout",
     "output_type": "stream",
     "text": [
      "ワードクラウドを作成：ファイルを個別にNotionへ保存してください。考える量と食欲は比例する\n"
     ]
    }
   ],
   "source": [
    "# ページごとに取得\n",
    "for page_data in page_data_analyse:\n",
    "    # テキストのベクトル化\n",
    "    vec_input = dmu.embed_text(page_data[\"Input\"])\n",
    "    vec_insight_final = dmu.embed_text(page_data[\"Insight_Final\"])\n",
    "    vec_insight_draft = dmu.embed_text(page_data[\"Insight_Draft\"])\n",
    "    \n",
    "    # 実現性：リアル松本との差分(類似度)\n",
    "    realization = 1 - dmu.calculate_cosine_distance(vec_insight_final, vec_insight_draft)\n",
    "    dmn.update_notion_num(page_data[\"id\"], \"実現性(類似度)\", realization)\n",
    "    \n",
    "    # 考察の特徴：TF-IDFの分析\n",
    "    dict_tfidf_v, tfidf_topN, tfidf_topN_str = analytics_insight_tfidf(page_data, page_data_done)\n",
    "\n",
    "    # 独自性：通常LLMとの差分(距離)\n",
    "    analytics_insight_originality(page_data, vec_insight_final, vec_insight_draft, tfidf_topN)\n",
    "    \n",
    "    # 知識参照度と活用度：質問及び回答とRAGデータの類似度\n",
    "    analytics_insight_knowledge(page_data)\n",
    "    \n",
    "    # 分析の確定\n",
    "    dmn.update_notion_chk(page_data[\"id\"], \"分析Chk\", True)"
   ]
  },
  {
   "cell_type": "code",
   "execution_count": null,
   "id": "94867df7-af50-4906-97d9-a879d06bda87",
   "metadata": {},
   "outputs": [],
   "source": []
  },
  {
   "cell_type": "code",
   "execution_count": null,
   "id": "4085c468-e1a3-40c5-a532-75154791731d",
   "metadata": {},
   "outputs": [],
   "source": []
  },
  {
   "cell_type": "code",
   "execution_count": null,
   "id": "d58adc53-eb6d-468e-ad14-1b80d705dcb9",
   "metadata": {},
   "outputs": [],
   "source": []
  },
  {
   "cell_type": "code",
   "execution_count": null,
   "id": "d8504a19-95c3-466b-a4e2-474282c01bfd",
   "metadata": {},
   "outputs": [],
   "source": []
  },
  {
   "cell_type": "code",
   "execution_count": null,
   "id": "9929bdcc-532a-40fb-ae4a-b47be4363439",
   "metadata": {},
   "outputs": [],
   "source": []
  }
 ],
 "metadata": {
  "kernelspec": {
   "display_name": "Python 3 (ipykernel)",
   "language": "python",
   "name": "python3"
  },
  "language_info": {
   "codemirror_mode": {
    "name": "ipython",
    "version": 3
   },
   "file_extension": ".py",
   "mimetype": "text/x-python",
   "name": "python",
   "nbconvert_exporter": "python",
   "pygments_lexer": "ipython3",
   "version": "3.10.12"
  }
 },
 "nbformat": 4,
 "nbformat_minor": 5
}
