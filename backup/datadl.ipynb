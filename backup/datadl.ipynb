{
 "cells": [
  {
   "cell_type": "code",
   "execution_count": 13,
   "id": "45af6030-b618-4914-a79d-efba0d0eaf31",
   "metadata": {},
   "outputs": [
    {
     "name": "stderr",
     "output_type": "stream",
     "text": [
      "Note: Environment variable`HF_TOKEN` is set and is the current active token independently from the token you've just configured.\n"
     ]
    }
   ],
   "source": [
    "import os\n",
    "from dotenv import load_dotenv\n",
    "from huggingface_hub import login\n",
    "import pandas as pd\n",
    "\n",
    "load_dotenv(\"system.env\")\n",
    "hf_token = os.getenv(\"HF_TOKEN\")\n",
    "\n",
    "login(token=hf_token)"
   ]
  },
  {
   "cell_type": "code",
   "execution_count": 14,
   "id": "7db62e01-b7fe-4783-b1a9-d2a1572344f9",
   "metadata": {},
   "outputs": [],
   "source": [
    "# Login using e.g. `huggingface-cli login` to access this dataset\n",
    "splits = {'test': 'v2.0/test-00000-of-00001.parquet'}\n",
    "df = pd.read_parquet(\"hf://datasets/llm-jp/AnswerCarefully/\" + splits[\"test\"])"
   ]
  },
  {
   "cell_type": "code",
   "execution_count": 15,
   "id": "17cffd0a-9e52-41e9-ac0c-42e40859ba82",
   "metadata": {},
   "outputs": [],
   "source": [
    "output_file_path=\"AnswerCarefullyTest.xlsx\"\n",
    "output_sheet_name=\"AnswerCarefully\"\n",
    "df.to_excel(output_file_path, sheet_name=output_sheet_name, index=False)"
   ]
  },
  {
   "cell_type": "code",
   "execution_count": null,
   "id": "6920c6fd-bd62-4899-bff5-fc9e5282d774",
   "metadata": {},
   "outputs": [],
   "source": []
  }
 ],
 "metadata": {
  "kernelspec": {
   "display_name": "Python 3 (ipykernel)",
   "language": "python",
   "name": "python3"
  },
  "language_info": {
   "codemirror_mode": {
    "name": "ipython",
    "version": 3
   },
   "file_extension": ".py",
   "mimetype": "text/x-python",
   "name": "python",
   "nbconvert_exporter": "python",
   "pygments_lexer": "ipython3",
   "version": "3.10.12"
  }
 },
 "nbformat": 4,
 "nbformat_minor": 5
}
