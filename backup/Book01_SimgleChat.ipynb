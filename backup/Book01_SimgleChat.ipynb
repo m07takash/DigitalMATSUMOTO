{
 "cells": [
  {
   "cell_type": "code",
   "execution_count": 1,
   "id": "a2105238-1ae6-471c-a54a-5bf9913f30c2",
   "metadata": {},
   "outputs": [],
   "source": [
    "import os\n",
    "import DigiM_Execute as dme\n",
    "import DigiM_Session as dms\n",
    "import DigiM_Util as dmu"
   ]
  },
  {
   "cell_type": "code",
   "execution_count": 11,
   "id": "6bc76c4d-e5b5-4fd6-80e0-8e63e4c54dd8",
   "metadata": {},
   "outputs": [],
   "source": [
    "user_input = \"20歳の若者がアメリカの大統領になったら、世の中はどのように変わると思いますか？考察してください。\"\n",
    "user_input = \"そのような時代で高齢者に期待されることは何でしょうか？\"\n",
    "#user_input = \"現代との大きな違いは何でしょうか？\"\n",
    "#user_input = \"これまでの会話を振り返って要約してください。\"\n",
    "#user_input = \"添付された人物はどんな人に見えますか？\"\n",
    "#user_input = \"添付ファイルにはどんな情報が含まれていますか？\"\n",
    "#user_input = \"ユニコーンがプレゼンテーションをしているイメージ画像を生成してください。\""
   ]
  },
  {
   "cell_type": "code",
   "execution_count": 12,
   "id": "7c03948c-3a9a-4234-a43e-e5ffbcc9483c",
   "metadata": {},
   "outputs": [],
   "source": [
    "content01 = \"テストファイル/テスト.txt\" \n",
    "content02 = \"テストファイル/テスト.pdf\" \n",
    "content03 = \"テストファイル/テスト.json\" \n",
    "content04 = \"テストファイル/DigitalMATSUMOTO.jpg\"\n",
    "contents = []#content01, content03, content04]#, content01, content02, content03"
   ]
  },
  {
   "cell_type": "code",
   "execution_count": 13,
   "id": "e9622709-1988-4ca9-8d6c-0947a92ecc9f",
   "metadata": {},
   "outputs": [],
   "source": [
    "situation = {}"
   ]
  },
  {
   "cell_type": "code",
   "execution_count": 14,
   "id": "ba1b92e1-28e1-41e9-96a0-3fc8c2d7e29b",
   "metadata": {},
   "outputs": [],
   "source": [
    "session_id = \"1\"\n",
    "session_name = user_input[:10]\n",
    "session = dms.DigiMSession(session_id, session_name)"
   ]
  },
  {
   "cell_type": "code",
   "execution_count": 15,
   "id": "87770adf-18d0-4f96-9c32-bcac4be3c86f",
   "metadata": {},
   "outputs": [
    {
     "name": "stdout",
     "output_type": "stream",
     "text": [
      "[回答]\n",
      "そのような時代において、高齢者に期待されることは以下のような役割や行動です。\n",
      "\n",
      "---\n",
      "\n",
      "### **1. 世代間の橋渡し役**\n",
      "高齢者は豊富な経験や知識を持つ世代として、若い世代に対して人生の教訓や価値観を共有する役割を担うことが期待されます。特に、急速に進化するデジタル社会において、過去からの教訓を伝えつつ、新たな技術や価値観を積極的に受け入れる姿勢が重要です。これにより、世代間のギャップを埋め、社会全体の調和を促進できます。\n",
      "\n",
      "---\n",
      "\n",
      "### **2. 新しい技術への適応**\n",
      "AIやデジタル技術が普及する時代において、高齢者もこれらのツールを活用する能力を身に付けることが求められます。例えば、AIを活用して日常生活を支援する（スマート家電や健康管理ツールの利用など）ことで、より豊かな生活を送ることができます。また、高齢者がデジタル技術を使いこなす姿は、若い世代にとっても良いモデルとなります。\n",
      "\n",
      "---\n",
      "\n",
      "### **3. 社会の知恵袋としての役割**\n",
      "高齢者は長年の経験から得た知恵やスキルを活用し、地域社会や家族、さらには職場などでアドバイザーとしての役割を果たすことができます。これには、伝統的な技術や文化の継承、新しい社会問題への洞察の提供、さらにはボランティア活動を通じた地域貢献が含まれます。\n",
      "\n",
      "---\n",
      "\n",
      "### **4. 生涯学習を通じた自己成長**\n",
      "時代の変化に応じて学び続ける姿勢も重要です。特に、AIやデジタルリテラシーのスキルを向上させることは、社会とのつながりを維持し、孤立を防ぐために役立ちます。一方で、これらの学習を通じて自己実現を図ることも期待されます。\n",
      "\n",
      "---\n",
      "\n",
      "### **5. AI時代における倫理的リーダーシップ**\n",
      "AIやテクノロジーが社会で重要な役割を果たす時代において、高齢者はその倫理的な利用に関する議論を促進することで、社会全体の健全な発展に貢献できます。これには、若い世代とともにAIの利用に関する課題を考え、健全な方向性を示す役割が含まれます。\n",
      "\n",
      "---\n",
      "\n",
      "### **結論**\n",
      "高齢者は、経験や知恵を活かして世代間の橋渡しを行い、新しい技術に適応しつつ、社会における知恵袋や倫理的リーダーとしての役割を果たすことが期待されます。これにより、急速に変化する時代においても、高齢者が社会全体で重要な存在であり続けることが可能です。\n"
     ]
    }
   ],
   "source": [
    "memory_use = True\n",
    "overwrite_items={}\n",
    "overwrite_items02={\n",
    "    \"PERSONALITY\": {\n",
    "        \"SPEAKING_STYLE\": \"Samurai\"\n",
    "    }\n",
    "}\n",
    "#prompt_temp_cd=\"Insight Template\"\n",
    "prompt_temp_cd=\"No Template\"\n",
    "type = \"LLM\"\n",
    "agent_file = \"agent_01DigitalMATSUMOTO_GPT.json\"\n",
    "\n",
    "response, export_contents = dme.DigiMatsuExecute(session_id, session_name, agent_file, type, user_input=user_input, contents=contents, situation=situation, overwrite_items=overwrite_items, prompt_temp_cd=prompt_temp_cd, memory_use=memory_use)\n",
    "\n",
    "print(\"[回答]\")\n",
    "print(response)"
   ]
  },
  {
   "cell_type": "code",
   "execution_count": null,
   "id": "5fe144bb-f2e1-417f-8e9c-7a73435f7615",
   "metadata": {},
   "outputs": [],
   "source": []
  }
 ],
 "metadata": {
  "kernelspec": {
   "display_name": "Python 3 (ipykernel)",
   "language": "python",
   "name": "python3"
  },
  "language_info": {
   "codemirror_mode": {
    "name": "ipython",
    "version": 3
   },
   "file_extension": ".py",
   "mimetype": "text/x-python",
   "name": "python",
   "nbconvert_exporter": "python",
   "pygments_lexer": "ipython3",
   "version": "3.10.12"
  }
 },
 "nbformat": 4,
 "nbformat_minor": 5
}
