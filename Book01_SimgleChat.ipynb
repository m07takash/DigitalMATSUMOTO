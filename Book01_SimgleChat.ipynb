{
 "cells": [
  {
   "cell_type": "code",
   "execution_count": 7,
   "id": "a2105238-1ae6-471c-a54a-5bf9913f30c2",
   "metadata": {},
   "outputs": [],
   "source": [
    "import os\n",
    "import DigiM_Engine as dme\n",
    "import DigiM_Session as dms\n",
    "import DigiM_Util as dmu"
   ]
  },
  {
   "cell_type": "code",
   "execution_count": 20,
   "id": "6bc76c4d-e5b5-4fd6-80e0-8e63e4c54dd8",
   "metadata": {},
   "outputs": [],
   "source": [
    "#user_input = \"添付された人物はどんな人に見えますか？\"\n",
    "#user_input = \"添付ファイルにはどんな情報が含まれていますか？\"\n",
    "#user_input = \"ユニコーンがプレゼンテーションをしているイメージ画像を生成してください。\"\n",
    "#user_input = \"20歳の若者がアメリカの大統領になったら、世の中はどのように変わると思いますか？考察してください。\"\n",
    "#user_input = \"そのような時代で高齢者に期待されることは何でしょうか？\"\n",
    "#user_input = \"現代との大きな違いは何でしょうか？\"\n",
    "user_input = \"これまでの会話を振り返って要約してください。\""
   ]
  },
  {
   "cell_type": "code",
   "execution_count": 21,
   "id": "7c03948c-3a9a-4234-a43e-e5ffbcc9483c",
   "metadata": {},
   "outputs": [],
   "source": [
    "content01 = \"backup/テスト.txt\" \n",
    "content02 = \"backup/テスト.pdf\" \n",
    "content03 = \"backup/テスト.json\" \n",
    "content04 = \"backup/DigitalMATSUMOTO.jpg\"\n",
    "contents = []#content01, content03, content04]#, content01, content02, content03"
   ]
  },
  {
   "cell_type": "code",
   "execution_count": 22,
   "id": "ba1b92e1-28e1-41e9-96a0-3fc8c2d7e29b",
   "metadata": {},
   "outputs": [],
   "source": [
    "session_id = \"0\"\n",
    "session_name = user_input[:10]\n",
    "session = dms.DigiMSession(session_id, session_name)"
   ]
  },
  {
   "cell_type": "code",
   "execution_count": 23,
   "id": "87770adf-18d0-4f96-9c32-bcac4be3c86f",
   "metadata": {},
   "outputs": [
    {
     "name": "stdout",
     "output_type": "stream",
     "text": [
      "[回答]\n",
      "拙者、デジタルMATSUMOTOがこれまでの会話を振り返り、要約いたす。まず、20歳の若者がアメリカの大統領となった場合、若者の視点からの政策が打ち出され、新たなる価値観や優先順位が世に広がる可能性について議論した。特にデジタルネイティブ世代の技術理解や環境問題への意識が高いことが強調され、テクノロジーやサステイナビリティ政策が加速されることが期待されると述べた。\n",
      "\n",
      "また、若者の柔軟な思考が既存の制度や慣習に挑戦する可能性があり、政治体制の透明性向上や教育の改革、新たな経済モデルの導入が期待されることを述べた。経験不足が懸念されるが、専門家の助言が不可欠であるとも指摘した。\n",
      "\n",
      "続いて、高齢者に期待されることについては、彼らの知恵と経験を活かし、若者を導く役割が重要であると述べた。地域社会においても指導者としての役割が期待され、家族の精神的支柱としての存在も重視された。\n",
      "\n",
      "さらに、現代と江戸時代の違いについては、技術の進化や価値観の変化、情報の普及、社会構造の流動性などが挙げられ、これらが現代社会における大きな変化であることを示した。\n",
      "\n",
      "最後に、プライベートAIエンジニアとしての学びや技術の重要性、リファクタリングの意義、眠りの大切さ、そして価値観を他者に押し付けぬことなど、多岐にわたる知識情報に基づき、解像度を上げて具体的に意見を述べることの重要性が強調された。\n",
      "\n",
      "以上がこれまでの会話の要約でござる。拙者、何か他にもお役に立てることがあればお申し付けくだされ。\n"
     ]
    }
   ],
   "source": [
    "memory_use = \"Y\"\n",
    "magic_word_use=\"Y\"\n",
    "overwrite_items={}\n",
    "overwrite_items={\n",
    "    \"PROMPT_TEMPLATE\": {\n",
    "        \"WRITING_STYLE\": \"Samurai Form\"\n",
    "    }\n",
    "}\n",
    "\n",
    "agent_file = \"user/common/agent/agent_DigitalMATSUMOTO.json\"\n",
    "#agent_mode = \"IMAGE_GEN\"\n",
    "agent_mode = \"DEFAULT\"\n",
    "\n",
    "#response = dme.DigiMatsuEngine(session_id, agent_file, session_name, agent_mode=agent_mode, user_input=user_input, contents=contents, overwrite_items=overwrite_items, memory_use=memory_use, magic_word_use=magic_word_use)\n",
    "response = dme.DigiMatsuEngine(session, agent_file, agent_mode=agent_mode, user_input=user_input, contents=contents, overwrite_items=overwrite_items, memory_use=memory_use, magic_word_use=magic_word_use)\n",
    "\n",
    "print(\"[回答]\")\n",
    "print(response)"
   ]
  },
  {
   "cell_type": "code",
   "execution_count": null,
   "id": "5fe144bb-f2e1-417f-8e9c-7a73435f7615",
   "metadata": {},
   "outputs": [],
   "source": []
  }
 ],
 "metadata": {
  "kernelspec": {
   "display_name": "Python 3 (ipykernel)",
   "language": "python",
   "name": "python3"
  },
  "language_info": {
   "codemirror_mode": {
    "name": "ipython",
    "version": 3
   },
   "file_extension": ".py",
   "mimetype": "text/x-python",
   "name": "python",
   "nbconvert_exporter": "python",
   "pygments_lexer": "ipython3",
   "version": "3.10.12"
  }
 },
 "nbformat": 4,
 "nbformat_minor": 5
}
