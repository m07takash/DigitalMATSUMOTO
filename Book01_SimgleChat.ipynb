{
 "cells": [
  {
   "cell_type": "code",
   "execution_count": 1,
   "id": "a2105238-1ae6-471c-a54a-5bf9913f30c2",
   "metadata": {},
   "outputs": [],
   "source": [
    "import os\n",
    "import DigiM_Execute as dme\n",
    "import DigiM_Session as dms\n",
    "import DigiM_Util as dmu"
   ]
  },
  {
   "cell_type": "code",
   "execution_count": 6,
   "id": "6bc76c4d-e5b5-4fd6-80e0-8e63e4c54dd8",
   "metadata": {},
   "outputs": [],
   "source": [
    "user_input = \"20歳の若者がアメリカの大統領になったら、世の中はどのように変わると思いますか？考察してください。\"\n",
    "user_input = \"そのような時代で高齢者に期待されることは何でしょうか？\"\n",
    "#user_input = \"現代との大きな違いは何でしょうか？\"\n",
    "#user_input = \"これまでの会話を振り返って要約してください。\"\n",
    "#user_input = \"添付された人物はどんな人に見えますか？\"\n",
    "#user_input = \"添付ファイルにはどんな情報が含まれていますか？\"\n",
    "#user_input = \"ユニコーンがプレゼンテーションをしているイメージ画像を生成してください。\""
   ]
  },
  {
   "cell_type": "code",
   "execution_count": 7,
   "id": "7c03948c-3a9a-4234-a43e-e5ffbcc9483c",
   "metadata": {},
   "outputs": [],
   "source": [
    "content01 = \"テストファイル/テスト.txt\" \n",
    "content02 = \"テストファイル/テスト.pdf\" \n",
    "content03 = \"テストファイル/テスト.json\" \n",
    "content04 = \"テストファイル/DigitalMATSUMOTO.jpg\"\n",
    "contents = []#content01, content03, content04]#, content01, content02, content03"
   ]
  },
  {
   "cell_type": "code",
   "execution_count": 8,
   "id": "ba1b92e1-28e1-41e9-96a0-3fc8c2d7e29b",
   "metadata": {},
   "outputs": [],
   "source": [
    "session_id = \"1\"\n",
    "session_name = user_input[:10]\n",
    "session = dms.DigiMSession(session_id, session_name)"
   ]
  },
  {
   "cell_type": "code",
   "execution_count": 9,
   "id": "87770adf-18d0-4f96-9c32-bcac4be3c86f",
   "metadata": {},
   "outputs": [
    {
     "name": "stdout",
     "output_type": "stream",
     "text": [
      "[回答]\n",
      "現代の社会において高齢者に期待されることは、多岐にわたります。以下にいくつかのポイントを挙げてみます。\n",
      "\n",
      "1. **経験と知識の共有**: 高齢者は長年の経験と豊富な知識を持っています。これを若い世代に伝えることで、知恵の継承が行われ、新たな世代の成長を助けることができます。\n",
      "\n",
      "2. **コミュニティの支援**: 高齢者は地域社会において重要な役割を果たすことができます。ボランティア活動や地域のイベントへの参加を通じて、コミュニティの結束を強め、支え合う関係を築くことが期待されます。\n",
      "\n",
      "3. **デジタルリテラシーの向上**: テクノロジーが急速に進化する中、高齢者もデジタル技術を学び、活用することで日常生活をより豊かにすることが求められます。これにより、オンラインサービスの利用や家族とのコミュニケーションが容易になります。\n",
      "\n",
      "4. **健康の維持と自己管理**: 高齢化社会において、健康を維持することは重要な課題です。自身の健康に注意を払い、適切な生活習慣を維持することで、医療負担の軽減や生活の質の向上につながります。\n",
      "\n",
      "5. **多様な価値観の理解と共存**: 若い世代との交流を深め、多様な価値観を理解し、共存する姿勢が求められます。これにより、世代間のギャップを埋め、より調和のとれた社会を築くことが可能です。\n",
      "\n",
      "高齢者がこれらの役割を担うことで、個々の生活だけでなく、社会全体の発展にも寄与することが期待されています。\n"
     ]
    }
   ],
   "source": [
    "memory_use = \"Y\"\n",
    "overwrite_items={}\n",
    "overwrite_items02={\n",
    "    \"PERSONALITY\": {\n",
    "        \"SPEAKING_STYLE\": \"Samurai\"\n",
    "    }\n",
    "}\n",
    "#prompt_temp_cd=\"Insight Template\"\n",
    "prompt_temp_cd=\"No Template\"\n",
    "\n",
    "agent_file = \"user/common/agent/agent_DigitalMATSUMOTO.json\"\n",
    "#agent_mode = \"IMAGE_GEN\"\n",
    "#agent_mode = \"DEFAULT\"\n",
    "\n",
    "#response = dme.DigiMatsuEngine(session_id, agent_file, session_name, agent_mode=agent_mode, user_input=user_input, contents=contents, overwrite_items=overwrite_items, memory_use=memory_use, magic_word_use=magic_word_use)\n",
    "response = dme.DigiMatsuExecute(session_id, session_name, agent_file, user_input=user_input, time_setting=\"\", contents=contents, overwrite_items=overwrite_items, prompt_temp_cd=prompt_temp_cd, memory_use=memory_use)\n",
    "\n",
    "print(\"[回答]\")\n",
    "print(response)"
   ]
  },
  {
   "cell_type": "code",
   "execution_count": null,
   "id": "5fe144bb-f2e1-417f-8e9c-7a73435f7615",
   "metadata": {},
   "outputs": [],
   "source": []
  }
 ],
 "metadata": {
  "kernelspec": {
   "display_name": "Python 3 (ipykernel)",
   "language": "python",
   "name": "python3"
  },
  "language_info": {
   "codemirror_mode": {
    "name": "ipython",
    "version": 3
   },
   "file_extension": ".py",
   "mimetype": "text/x-python",
   "name": "python",
   "nbconvert_exporter": "python",
   "pygments_lexer": "ipython3",
   "version": "3.10.12"
  }
 },
 "nbformat": 4,
 "nbformat_minor": 5
}
