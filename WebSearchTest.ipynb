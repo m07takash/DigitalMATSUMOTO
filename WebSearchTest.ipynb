{
 "cells": [
  {
   "cell_type": "code",
   "execution_count": 2,
   "id": "7ea7c572-8d44-4335-acef-ec6a32ef29d6",
   "metadata": {},
   "outputs": [],
   "source": [
    "import os\n",
    "import json\n",
    "from dotenv import load_dotenv\n",
    "\n",
    "import openai\n",
    "from openai import OpenAI\n",
    "\n",
    "load_dotenv(\"system.env\")\n",
    "temp_folder_path = os.getenv(\"TEMP_FOLDER\")\n",
    "openai_api_key = os.getenv(\"OPENAI_API_KEY\")\n",
    "\n",
    "client = OpenAI(api_key=openai_api_key)"
   ]
  },
  {
   "cell_type": "code",
   "execution_count": 4,
   "id": "8d4d9300-8100-4e07-a407-00b2399932e7",
   "metadata": {},
   "outputs": [
    {
     "name": "stdout",
     "output_type": "stream",
     "text": [
      "本日注目されているニュースの一つとして、石破茂首相が商品券配布問題について「ケチだのと言われ気にする部分があった」と発言したことが挙げられます。 ([news.livedoor.com](https://news.livedoor.com/straight_news/?utm_source=openai)) \n"
     ]
    }
   ],
   "source": [
    "prompt = \"今日ぬ\n",
    "\n",
    "response = client.responses.create(\n",
    "    model=\"gpt-4o\",\n",
    "    tools=[{\"type\": \"web_search_preview\"}],\n",
    "    input=prompt\n",
    ")\n",
    "\n",
    "print(response.output_text)"
   ]
  },
  {
   "cell_type": "code",
   "execution_count": null,
   "id": "4bbaf0ef-ffd5-4699-908f-30e11c81a8e3",
   "metadata": {},
   "outputs": [],
   "source": []
  }
 ],
 "metadata": {
  "kernelspec": {
   "display_name": "Python 3 (ipykernel)",
   "language": "python",
   "name": "python3"
  },
  "language_info": {
   "codemirror_mode": {
    "name": "ipython",
    "version": 3
   },
   "file_extension": ".py",
   "mimetype": "text/x-python",
   "name": "python",
   "nbconvert_exporter": "python",
   "pygments_lexer": "ipython3",
   "version": "3.10.12"
  }
 },
 "nbformat": 4,
 "nbformat_minor": 5
}
